{
 "cells": [
  {
   "cell_type": "markdown",
   "metadata": {},
   "source": [
    "A small café tracks its daily sales for three products: coffee, sandwiches, and cakes. The sales for three days are recorded as:\n",
    "Day 1: [100 coffees, 50 sandwiches, 30 cakes]\n",
    "Day 2: [120 coffees, 70 sandwiches, 40 cakes]\n",
    "Day 3: [90 coffees, 60 sandwiches, 20 cakes]\n",
    "The prices for the products are:\n",
    "Coffee: $2 each\n",
    "Sandwich: $5 each\n",
    "Cake: $4 each\n",
    "Represent the sales and prices as matrices.\n",
    "Compute the total revenue for each day using matrix multiplication.\n",
    "Calculate the transpose of the sales matrix and explain its significance."
   ]
  },
  {
   "cell_type": "code",
   "execution_count": 1,
   "metadata": {},
   "outputs": [
    {
     "name": "stdout",
     "output_type": "stream",
     "text": [
      "Requirement already satisfied: numpy in c:\\users\\achar\\appdata\\local\\programs\\python\\python313\\lib\\site-packages (2.2.1)\n",
      "Note: you may need to restart the kernel to use updated packages.\n"
     ]
    }
   ],
   "source": [
    "%pip install numpy"
   ]
  },
  {
   "cell_type": "code",
   "execution_count": 2,
   "metadata": {},
   "outputs": [],
   "source": [
    "import numpy as np"
   ]
  },
  {
   "cell_type": "markdown",
   "metadata": {},
   "source": [
    "here, in the sales matrix, each row represents a product and each column represents a day"
   ]
  },
  {
   "cell_type": "code",
   "execution_count": 5,
   "metadata": {},
   "outputs": [],
   "source": [
    "sales = np.array([[100, 120, 90],\n",
    "                  [50, 70, 60],\n",
    "                  [30, 40, 20]])\n",
    "\n",
    "prices = np.array([[2,5,4]])"
   ]
  },
  {
   "cell_type": "code",
   "execution_count": 7,
   "metadata": {},
   "outputs": [
    {
     "name": "stdout",
     "output_type": "stream",
     "text": [
      "[[570 750 560]]\n"
     ]
    }
   ],
   "source": [
    "revenue = np.dot(prices, sales)\n",
    "print(revenue)"
   ]
  },
  {
   "cell_type": "code",
   "execution_count": 8,
   "metadata": {},
   "outputs": [
    {
     "name": "stdout",
     "output_type": "stream",
     "text": [
      "[[100  50  30]\n",
      " [120  70  40]\n",
      " [ 90  60  20]]\n"
     ]
    }
   ],
   "source": [
    "transpose = sales.T\n",
    "print(transpose)"
   ]
  },
  {
   "cell_type": "markdown",
   "metadata": {},
   "source": [
    "After transposing the sales matrix, the orientation is inersed, thus now column represents a product and each row represents a day."
   ]
  },
  {
   "cell_type": "markdown",
   "metadata": {},
   "source": [
    "The signinficance of transpose of matrix are as follow:\n",
    "1. Transpose of matrix is used to convert non squared matrix to be in desired orientation making it suitable for matrix multiplication.\n",
    "2. PCA involves eigenvector decomposition of the covariance matrix. Transpose is used to compute the covariance matrix and project data onto the principal components.\n",
    "3. The transpose is used in transformations such as rotations, projections, and changing coordinate systems in computer vision and natural language processing."
   ]
  }
 ],
 "metadata": {
  "kernelspec": {
   "display_name": "Python 3",
   "language": "python",
   "name": "python3"
  },
  "language_info": {
   "codemirror_mode": {
    "name": "ipython",
    "version": 3
   },
   "file_extension": ".py",
   "mimetype": "text/x-python",
   "name": "python",
   "nbconvert_exporter": "python",
   "pygments_lexer": "ipython3",
   "version": "3.13.1"
  }
 },
 "nbformat": 4,
 "nbformat_minor": 2
}
