{
 "cells": [
  {
   "cell_type": "markdown",
   "id": "503139e6",
   "metadata": {},
   "source": [
    "## CS50 AI - December 22, 2024\n",
    "# \n",
    "# **Instructor:** Suwash Shrestha\n",
    "# \n",
    "# **Welcome to CS50 AI!**\n",
    "# \n",
    "# This course will introduce you to the fundamentals of artificial intelligence.\n"
   ]
  },
  {
   "cell_type": "markdown",
   "id": "2c97324c",
   "metadata": {},
   "source": [
    "# Introduction to Python for Data Science"
   ]
  },
  {
   "cell_type": "markdown",
   "id": "4134b4b2",
   "metadata": {},
   "source": [
    "Python has emerged as the ideal choice for data science and machine learning for several compelling reasons. \n",
    " \n",
    "First and foremost, Python boasts a simple and readable syntax, which makes it accessible to both beginners and experienced programmers. This ease of use allows data scientists to focus on solving complex problems rather than getting bogged down by intricate programming details.\n",
    " \n",
    "Additionally, Python has a rich ecosystem of libraries and frameworks specifically designed for data analysis and machine learning. Libraries such as NumPy and pandas provide powerful tools for data manipulation and analysis, while frameworks like TensorFlow and scikit-learn offer robust solutions for building and deploying machine learning models. This extensive library support accelerates the development process and enhances productivity.\n",
    " \n",
    "Furthermore, Python's versatility allows it to be used across various domains, from web development to scientific computing. This flexibility means that data scientists can integrate their work with other technologies and platforms seamlessly.\n",
    " \n",
    "The strong community support surrounding Python is another significant advantage. With a vast number of tutorials, forums, and documentation available, practitioners can easily find resources to help them troubleshoot issues or learn new techniques. This collaborative environment fosters innovation and knowledge sharing, which is crucial in the rapidly evolving field of data science.\n",
    " \n",
    "Lastly, Python's compatibility with big data technologies, such as Apache Spark and Hadoop, makes it an excellent choice for handling large datasets. As data continues to grow in volume and complexity, Python's ability to work with these technologies ensures that data scientists can efficiently process and analyze data at scale.\n",
    "\n",
    "In summary, Python's simplicity, extensive libraries, versatility, community support, and compatibility with big data technologies make it the ideal choice for data science and machine learning.\n"
   ]
  },
  {
   "cell_type": "markdown",
   "id": "2af7bcc5",
   "metadata": {},
   "source": [
    "Let's review some topics"
   ]
  },
  {
   "cell_type": "code",
   "execution_count": 4,
   "id": "3c68900e",
   "metadata": {},
   "outputs": [
    {
     "name": "stdout",
     "output_type": "stream",
     "text": [
      "10\n",
      "You are a minor.\n"
     ]
    }
   ],
   "source": [
    "# Integer (int)\n",
    "# Represents whole numbers, e.g., 5, -10.\n",
    "age = 10\n",
    "print(age)\n",
    "\n",
    "# Try here: Uncomment the line below and complete the code to check if age is greater than 18\n",
    "if age > 18:\n",
    "    print(\"You are an adult.\")\n",
    "else:\n",
    "    print(\"You are a minor.\")"
   ]
  },
  {
   "cell_type": "code",
   "execution_count": 6,
   "id": "29cc780f",
   "metadata": {},
   "outputs": [
    {
     "name": "stdout",
     "output_type": "stream",
     "text": [
      "36.6\n",
      "37.5\n",
      "False\n"
     ]
    }
   ],
   "source": [
    "# Float (float)\n",
    "# Represents numbers with decimals, e.g., 3.14, -0.01.\n",
    "temperature1 = 36.6\n",
    "print(temperature1)\n",
    "\n",
    "# Try here: Uncomment the line below and change the value of temperature to see how it affects the output\n",
    "temperature2 = 37.5\n",
    "print(temperature2)\n",
    "print(temperature1 > temperature2)"
   ]
  },
  {
   "cell_type": "code",
   "execution_count": 3,
   "id": "3f88fd80",
   "metadata": {},
   "outputs": [
    {
     "name": "stdout",
     "output_type": "stream",
     "text": [
      "Alice\n"
     ]
    }
   ],
   "source": [
    "# String (str)\n",
    "name = \"Alice\"\n",
    "print(name)\n",
    "\n",
    "# Try here: Uncomment the line below and change the value of name to see how it affects the output\n",
    "# name = \"Bob\"\n",
    "# print(name)"
   ]
  },
  {
   "cell_type": "code",
   "execution_count": 4,
   "id": "03b71982",
   "metadata": {},
   "outputs": [
    {
     "name": "stdout",
     "output_type": "stream",
     "text": [
      "True\n"
     ]
    }
   ],
   "source": [
    "# Boolean (bool)\n",
    "is_sunny = True\n",
    "print(is_sunny)\n",
    "\n",
    "# Try here: Uncomment the line below and change the value of is_sunny to see how it affects the output\n",
    "# is_sunny = False\n",
    "# print(is_sunny)"
   ]
  },
  {
   "cell_type": "code",
   "execution_count": 11,
   "id": "6fb2b164",
   "metadata": {},
   "outputs": [
    {
     "name": "stdout",
     "output_type": "stream",
     "text": [
      "I am 21 years old.\n"
     ]
    }
   ],
   "source": [
    "# Integer to string\n",
    "# age = 25\n",
    "# print(\"I am \" + str(age) + \" years old.\") \n",
    "\n",
    "# Try here: Uncomment the line below and change the value of age to see how it affects the output\n",
    "age = 21\n",
    "print(\"I am \" + str(age) + \" years old.\")"
   ]
  },
  {
   "cell_type": "code",
   "execution_count": 6,
   "id": "99a1ac2f",
   "metadata": {},
   "outputs": [
    {
     "name": "stdout",
     "output_type": "stream",
     "text": [
      "15\n"
     ]
    }
   ],
   "source": [
    "# String to integer\n",
    "value = \"10\"\n",
    "print(int(value) + 5)\n",
    "\n",
    "# Try here: Uncomment the line below and change the value of 'value' to see how it affects the output\n",
    "# value = \"20\"\n",
    "# print(int(value) + 5)"
   ]
  },
  {
   "cell_type": "code",
   "execution_count": 7,
   "id": "3e69b7af",
   "metadata": {},
   "outputs": [
    {
     "name": "stdout",
     "output_type": "stream",
     "text": [
      "3\n"
     ]
    }
   ],
   "source": [
    "# Float to integer\n",
    "pi = 3.14\n",
    "print(int(pi))\n",
    "\n",
    "# Try here: Uncomment the line below and change the value of pi to see how it affects the output\n",
    "# pi = 2.71\n",
    "# print(int(pi))"
   ]
  },
  {
   "cell_type": "code",
   "execution_count": 15,
   "id": "192caedb",
   "metadata": {},
   "outputs": [
    {
     "name": "stdout",
     "output_type": "stream",
     "text": [
      "False\n"
     ]
    }
   ],
   "source": [
    "# Integer to Boolean\n",
    "number = 0\n",
    "print(bool(number)) \n",
    "\n",
    "# Try here: Uncomment the line below and change the value of number to see how it affects the output\n",
    "# number = 1\n",
    "# print(bool(number))"
   ]
  },
  {
   "cell_type": "markdown",
   "id": "69be75ab",
   "metadata": {},
   "source": [
    "\n",
    "# Loops"
   ]
  },
  {
   "cell_type": "code",
   "execution_count": 16,
   "id": "c5129c22",
   "metadata": {},
   "outputs": [
    {
     "name": "stdout",
     "output_type": "stream",
     "text": [
      "1\n",
      "2\n",
      "3\n",
      "4\n",
      "5\n"
     ]
    }
   ],
   "source": [
    "# For Loops\n",
    "numbers = [1, 2, 3, 4, 5]\n",
    "for number in numbers:\n",
    "    print(number)\n",
    "\n",
    "# Try here: Uncomment the line below and change the values in the 'numbers' list to see how it affects the output\n",
    "# numbers = [6, 7, 8, 9, 10]\n",
    "# for number in numbers:\n",
    "#     print(number)"
   ]
  },
  {
   "cell_type": "code",
   "execution_count": 30,
   "id": "0b0577c6",
   "metadata": {},
   "outputs": [
    {
     "name": "stdout",
     "output_type": "stream",
     "text": [
      "20\n",
      "19\n",
      "18\n",
      "17\n",
      "16\n",
      "15\n",
      "14\n",
      "13\n",
      "12\n",
      "11\n",
      "10\n",
      "9\n",
      "8\n",
      "7\n",
      "6\n",
      "5\n",
      "4\n",
      "3\n",
      "2\n",
      "1\n"
     ]
    }
   ],
   "source": [
    "# While loops\n",
    "count = 20\n",
    "while count > 0:\n",
    "    print(count)\n",
    "    count -= 1\n",
    "\n",
    "# Try here: Uncomment the line below and change the value of 'count' to see how it affects the output\n",
    "# count = 3\n",
    "# while count > 0:\n",
    "#     print(count)\n",
    "#     count -= 1"
   ]
  },
  {
   "cell_type": "code",
   "execution_count": 11,
   "id": "79de6e4b",
   "metadata": {},
   "outputs": [
    {
     "name": "stdout",
     "output_type": "stream",
     "text": [
      "0\n",
      "1\n",
      "2\n",
      "3\n",
      "4\n"
     ]
    }
   ],
   "source": [
    "# Example: Breaking out of a loop\n",
    "for i in range(10):\n",
    "    if i == 5:\n",
    "        break\n",
    "    print(i)\n",
    "\n",
    "# Try here: Uncomment the line below and change the range to see how it affects the output\n",
    "# for i in range(15):\n",
    "#     if i == 10:\n",
    "#         break\n",
    "#     print(i)"
   ]
  },
  {
   "cell_type": "code",
   "execution_count": 12,
   "id": "7bc661e1",
   "metadata": {},
   "outputs": [
    {
     "name": "stdout",
     "output_type": "stream",
     "text": [
      "0\n",
      "1\n",
      "3\n",
      "4\n"
     ]
    }
   ],
   "source": [
    "# Example: Skipping an iteration\n",
    "for i in range(5):\n",
    "    if i == 2:\n",
    "        continue\n",
    "    print(i)\n",
    "\n",
    "# Try here: Uncomment the line below and change the range to see how it affects the output\n",
    "# for i in range(10):\n",
    "#     if i == 4:\n",
    "#         continue\n",
    "#     print(i)"
   ]
  },
  {
   "cell_type": "markdown",
   "id": "d57c1f8e",
   "metadata": {},
   "source": [
    "## Functions"
   ]
  },
  {
   "cell_type": "code",
   "execution_count": 19,
   "id": "9b4e9246",
   "metadata": {},
   "outputs": [
    {
     "name": "stdout",
     "output_type": "stream",
     "text": [
      "5\n",
      "6\n"
     ]
    }
   ],
   "source": [
    "# Example: Function that returns a value\n",
    "def add(a, b):\n",
    "    return a + b\n",
    "\n",
    "def product(c,d):\n",
    "    return c*d\n",
    "\n",
    "# Try here: Uncomment the line below and change the values of 'a' and 'b' to see how it affects the output\n",
    "result = add(2, 3)\n",
    "result2 = product(2, 3)\n",
    "print(result)\n",
    "print(result2)"
   ]
  },
  {
   "cell_type": "code",
   "execution_count": 14,
   "id": "673ed623",
   "metadata": {},
   "outputs": [
    {
     "name": "stdout",
     "output_type": "stream",
     "text": [
      "8\n"
     ]
    }
   ],
   "source": [
    "result = add(5, 3)\n",
    "print(result)\n",
    "\n",
    "# Try here: Uncomment the line below and change the values of 'a' and 'b' to see how it affects the output\n",
    "# result = add(10, 7)\n",
    "# print(result)"
   ]
  },
  {
   "cell_type": "code",
   "execution_count": 23,
   "id": "1f1fc658",
   "metadata": {},
   "outputs": [
    {
     "name": "stdout",
     "output_type": "stream",
     "text": [
      "Prabin Acharya, aap PAPA hai.\n"
     ]
    }
   ],
   "source": [
    "def greet(name=\"Guest\"):\n",
    "    print(f\"{name}, aap PAPA hai.\")\n",
    "\n",
    "# Try here: Uncomment the line below and change the name to see how it affects the output\n",
    "greet(\"Prabin Acharya\")\n"
   ]
  },
  {
   "cell_type": "code",
   "execution_count": 24,
   "id": "59ec5f87",
   "metadata": {},
   "outputs": [
    {
     "name": "stdout",
     "output_type": "stream",
     "text": [
      "Guest, aap PAPA hai.\n"
     ]
    }
   ],
   "source": [
    "greet() "
   ]
  },
  {
   "cell_type": "code",
   "execution_count": 25,
   "id": "d3618284",
   "metadata": {},
   "outputs": [
    {
     "name": "stdout",
     "output_type": "stream",
     "text": [
      "Alice, aap PAPA hai.\n"
     ]
    }
   ],
   "source": [
    "greet(\"Alice\")"
   ]
  },
  {
   "cell_type": "markdown",
   "id": "dc232999",
   "metadata": {},
   "source": [
    "# Lets try a code "
   ]
  },
  {
   "cell_type": "markdown",
   "id": "4432fc4e",
   "metadata": {},
   "source": [
    "### This command will install the necessary libraries required for today\n",
    "!pip install numpy pandas\n",
    "!pip install matplotlib\n"
   ]
  },
  {
   "cell_type": "code",
   "execution_count": 33,
   "id": "8f3e2520",
   "metadata": {},
   "outputs": [
    {
     "name": "stdout",
     "output_type": "stream",
     "text": [
      "^C\n",
      "Note: you may need to restart the kernel to use updated packages.\n",
      "Collecting numpy\n",
      "  Downloading numpy-2.2.1-cp313-cp313-win_amd64.whl.metadata (60 kB)\n",
      "Collecting pandas\n",
      "  Downloading pandas-2.2.3-cp313-cp313-win_amd64.whl.metadata (19 kB)\n",
      "Requirement already satisfied: python-dateutil>=2.8.2 in c:\\users\\achar\\appdata\\roaming\\python\\python313\\site-packages (from pandas) (2.9.0.post0)\n",
      "Collecting pytz>=2020.1 (from pandas)\n",
      "  Downloading pytz-2024.2-py2.py3-none-any.whl.metadata (22 kB)\n",
      "Collecting tzdata>=2022.7 (from pandas)\n",
      "  Downloading tzdata-2024.2-py2.py3-none-any.whl.metadata (1.4 kB)\n",
      "Requirement already satisfied: six>=1.5 in c:\\users\\achar\\appdata\\roaming\\python\\python313\\site-packages (from python-dateutil>=2.8.2->pandas) (1.17.0)\n",
      "Downloading numpy-2.2.1-cp313-cp313-win_amd64.whl (12.6 MB)\n",
      "   ---------------------------------------- 0.0/12.6 MB ? eta -:--:--\n",
      "    --------------------------------------- 0.3/12.6 MB ? eta -:--:--\n",
      "   - -------------------------------------- 0.5/12.6 MB 2.5 MB/s eta 0:00:05\n",
      "   --- ------------------------------------ 1.0/12.6 MB 2.4 MB/s eta 0:00:05\n",
      "   --- ------------------------------------ 1.0/12.6 MB 2.4 MB/s eta 0:00:05\n",
      "   ----- ---------------------------------- 1.8/12.6 MB 2.1 MB/s eta 0:00:06\n",
      "   ------- -------------------------------- 2.4/12.6 MB 2.0 MB/s eta 0:00:06\n",
      "   --------- ------------------------------ 2.9/12.6 MB 2.1 MB/s eta 0:00:05\n",
      "   --------- ------------------------------ 2.9/12.6 MB 2.1 MB/s eta 0:00:05\n",
      "   ------------ --------------------------- 3.9/12.6 MB 2.1 MB/s eta 0:00:05\n",
      "   -------------- ------------------------- 4.5/12.6 MB 2.1 MB/s eta 0:00:04\n",
      "   --------------- ------------------------ 5.0/12.6 MB 2.1 MB/s eta 0:00:04\n",
      "   ----------------- ---------------------- 5.5/12.6 MB 2.1 MB/s eta 0:00:04\n",
      "   ------------------ --------------------- 5.8/12.6 MB 2.1 MB/s eta 0:00:04\n",
      "   -------------------- ------------------- 6.6/12.6 MB 2.2 MB/s eta 0:00:03\n",
      "   ---------------------- ----------------- 7.1/12.6 MB 2.2 MB/s eta 0:00:03\n",
      "   ------------------------ --------------- 7.9/12.6 MB 2.3 MB/s eta 0:00:03\n",
      "   --------------------------- ------------ 8.7/12.6 MB 2.3 MB/s eta 0:00:02\n",
      "   ---------------------------- ----------- 8.9/12.6 MB 2.3 MB/s eta 0:00:02\n",
      "   ----------------------------- ---------- 9.4/12.6 MB 2.3 MB/s eta 0:00:02\n",
      "   -------------------------------- ------- 10.2/12.6 MB 2.3 MB/s eta 0:00:02\n",
      "   ---------------------------------- ----- 10.7/12.6 MB 2.4 MB/s eta 0:00:01\n",
      "   ------------------------------------ --- 11.5/12.6 MB 2.4 MB/s eta 0:00:01\n",
      "   -------------------------------------- - 12.1/12.6 MB 2.4 MB/s eta 0:00:01\n",
      "   ---------------------------------------  12.6/12.6 MB 2.4 MB/s eta 0:00:01\n",
      "   ---------------------------------------- 12.6/12.6 MB 2.4 MB/s eta 0:00:00\n",
      "Downloading pandas-2.2.3-cp313-cp313-win_amd64.whl (11.5 MB)\n",
      "   ---------------------------------------- 0.0/11.5 MB ? eta -:--:--\n",
      "   - -------------------------------------- 0.5/11.5 MB 3.5 MB/s eta 0:00:04\n",
      "   ---- ----------------------------------- 1.3/11.5 MB 3.2 MB/s eta 0:00:04\n",
      "   ------- -------------------------------- 2.1/11.5 MB 3.4 MB/s eta 0:00:03\n",
      "   --------- ------------------------------ 2.6/11.5 MB 3.3 MB/s eta 0:00:03\n",
      "   ----------- ---------------------------- 3.4/11.5 MB 3.2 MB/s eta 0:00:03\n",
      "   ------------- -------------------------- 3.9/11.5 MB 3.2 MB/s eta 0:00:03\n",
      "   ---------------- ----------------------- 4.7/11.5 MB 3.2 MB/s eta 0:00:03\n",
      "   ------------------ --------------------- 5.2/11.5 MB 3.2 MB/s eta 0:00:02\n",
      "   -------------------- ------------------- 5.8/11.5 MB 3.2 MB/s eta 0:00:02\n",
      "   --------------------- ------------------ 6.3/11.5 MB 3.0 MB/s eta 0:00:02\n",
      "   ------------------------ --------------- 7.1/11.5 MB 3.0 MB/s eta 0:00:02\n",
      "   -------------------------- ------------- 7.6/11.5 MB 3.0 MB/s eta 0:00:02\n",
      "   ---------------------------- ----------- 8.1/11.5 MB 3.0 MB/s eta 0:00:02\n",
      "   ------------------------------ --------- 8.7/11.5 MB 3.0 MB/s eta 0:00:01\n",
      "   -------------------------------- ------- 9.4/11.5 MB 3.0 MB/s eta 0:00:01\n",
      "   --------------------------------- ------ 9.7/11.5 MB 2.9 MB/s eta 0:00:01\n",
      "   ----------------------------------- ---- 10.2/11.5 MB 2.8 MB/s eta 0:00:01\n",
      "   ------------------------------------- -- 10.7/11.5 MB 2.8 MB/s eta 0:00:01\n",
      "   ---------------------------------------  11.3/11.5 MB 2.8 MB/s eta 0:00:01\n",
      "   ---------------------------------------- 11.5/11.5 MB 2.7 MB/s eta 0:00:00\n",
      "Downloading pytz-2024.2-py2.py3-none-any.whl (508 kB)\n",
      "Downloading tzdata-2024.2-py2.py3-none-any.whl (346 kB)\n",
      "Installing collected packages: pytz, tzdata, numpy, pandas\n",
      "Successfully installed numpy-2.2.1 pandas-2.2.3 pytz-2024.2 tzdata-2024.2\n"
     ]
    },
    {
     "name": "stderr",
     "output_type": "stream",
     "text": [
      "  WARNING: The scripts f2py.exe and numpy-config.exe are installed in 'c:\\Users\\achar\\AppData\\Local\\Programs\\Python\\Python313\\Scripts' which is not on PATH.\n",
      "  Consider adding this directory to PATH or, if you prefer to suppress this warning, use --no-warn-script-location.\n"
     ]
    },
    {
     "name": "stdout",
     "output_type": "stream",
     "text": [
      "Collecting matplotlibNote: you may need to restart the kernel to use updated packages.\n",
      "\n",
      "  Downloading matplotlib-3.10.0-cp313-cp313-win_amd64.whl.metadata (11 kB)\n",
      "Collecting contourpy>=1.0.1 (from matplotlib)\n",
      "  Downloading contourpy-1.3.1-cp313-cp313-win_amd64.whl.metadata (5.4 kB)\n",
      "Collecting cycler>=0.10 (from matplotlib)\n",
      "  Downloading cycler-0.12.1-py3-none-any.whl.metadata (3.8 kB)\n",
      "Collecting fonttools>=4.22.0 (from matplotlib)\n",
      "  Downloading fonttools-4.55.3-cp313-cp313-win_amd64.whl.metadata (168 kB)\n",
      "Collecting kiwisolver>=1.3.1 (from matplotlib)\n",
      "  Downloading kiwisolver-1.4.7-cp313-cp313-win_amd64.whl.metadata (6.4 kB)\n",
      "Requirement already satisfied: numpy>=1.23 in c:\\users\\achar\\appdata\\local\\programs\\python\\python313\\lib\\site-packages (from matplotlib) (2.2.1)\n",
      "Requirement already satisfied: packaging>=20.0 in c:\\users\\achar\\appdata\\roaming\\python\\python313\\site-packages (from matplotlib) (24.2)\n",
      "Collecting pillow>=8 (from matplotlib)\n",
      "  Downloading pillow-11.0.0-cp313-cp313-win_amd64.whl.metadata (9.3 kB)\n",
      "Collecting pyparsing>=2.3.1 (from matplotlib)\n",
      "  Downloading pyparsing-3.2.0-py3-none-any.whl.metadata (5.0 kB)\n",
      "Requirement already satisfied: python-dateutil>=2.7 in c:\\users\\achar\\appdata\\roaming\\python\\python313\\site-packages (from matplotlib) (2.9.0.post0)\n",
      "Requirement already satisfied: six>=1.5 in c:\\users\\achar\\appdata\\roaming\\python\\python313\\site-packages (from python-dateutil>=2.7->matplotlib) (1.17.0)\n",
      "Downloading matplotlib-3.10.0-cp313-cp313-win_amd64.whl (8.0 MB)\n",
      "   ---------------------------------------- 0.0/8.0 MB ? eta -:--:--\n",
      "   - -------------------------------------- 0.3/8.0 MB ? eta -:--:--\n",
      "   ----- ---------------------------------- 1.0/8.0 MB 3.0 MB/s eta 0:00:03\n",
      "   ---------- ----------------------------- 2.1/8.0 MB 3.5 MB/s eta 0:00:02\n",
      "   -------------- ------------------------- 2.9/8.0 MB 3.6 MB/s eta 0:00:02\n",
      "   ---------------- ----------------------- 3.4/8.0 MB 3.4 MB/s eta 0:00:02\n",
      "   ---------------------- ----------------- 4.5/8.0 MB 3.3 MB/s eta 0:00:02\n",
      "   --------------------------- ------------ 5.5/8.0 MB 3.5 MB/s eta 0:00:01\n",
      "   -------------------------------- ------- 6.6/8.0 MB 3.6 MB/s eta 0:00:01\n",
      "   ------------------------------------ --- 7.3/8.0 MB 3.6 MB/s eta 0:00:01\n",
      "   ---------------------------------------- 8.0/8.0 MB 3.5 MB/s eta 0:00:00\n",
      "Downloading contourpy-1.3.1-cp313-cp313-win_amd64.whl (220 kB)\n",
      "Downloading cycler-0.12.1-py3-none-any.whl (8.3 kB)\n",
      "Downloading fonttools-4.55.3-cp313-cp313-win_amd64.whl (2.2 MB)\n",
      "   ---------------------------------------- 0.0/2.2 MB ? eta -:--:--\n",
      "   ------------------- -------------------- 1.0/2.2 MB 4.3 MB/s eta 0:00:01\n",
      "   --------------------------------- ------ 1.8/2.2 MB 3.8 MB/s eta 0:00:01\n",
      "   ---------------------------------------- 2.2/2.2 MB 3.6 MB/s eta 0:00:00\n",
      "Downloading kiwisolver-1.4.7-cp313-cp313-win_amd64.whl (55 kB)\n",
      "Downloading pillow-11.0.0-cp313-cp313-win_amd64.whl (2.6 MB)\n",
      "   ---------------------------------------- 0.0/2.6 MB ? eta -:--:--\n",
      "   ------------ --------------------------- 0.8/2.6 MB 3.3 MB/s eta 0:00:01\n",
      "   ------------------------ --------------- 1.6/2.6 MB 3.5 MB/s eta 0:00:01\n",
      "   ------------------------------------ --- 2.4/2.6 MB 3.3 MB/s eta 0:00:01\n",
      "   ---------------------------------------- 2.6/2.6 MB 3.2 MB/s eta 0:00:00\n",
      "Downloading pyparsing-3.2.0-py3-none-any.whl (106 kB)\n",
      "Installing collected packages: pyparsing, pillow, kiwisolver, fonttools, cycler, contourpy, matplotlib\n",
      "Successfully installed contourpy-1.3.1 cycler-0.12.1 fonttools-4.55.3 kiwisolver-1.4.7 matplotlib-3.10.0 pillow-11.0.0 pyparsing-3.2.0\n"
     ]
    },
    {
     "name": "stderr",
     "output_type": "stream",
     "text": [
      "  WARNING: The scripts fonttools.exe, pyftmerge.exe, pyftsubset.exe and ttx.exe are installed in 'c:\\Users\\achar\\AppData\\Local\\Programs\\Python\\Python313\\Scripts' which is not on PATH.\n",
      "  Consider adding this directory to PATH or, if you prefer to suppress this warning, use --no-warn-script-location.\n"
     ]
    }
   ],
   "source": [
    "%pip install numpy pandas\n",
    "%pip install matplotlib"
   ]
  },
  {
   "cell_type": "markdown",
   "id": "b0964dcd",
   "metadata": {},
   "source": [
    "NumPy is a fundamental package for scientific computing in Python. It provides support for arrays, matrices, and a wide range of mathematical functions to operate on these data structures. NumPy is particularly useful for numerical data processing and is often used as the foundation for other libraries.\n",
    "\n",
    "Pandas is a powerful data manipulation and analysis library for Python. It provides data structures like Series and DataFrame, which allow for easy handling of structured data. Pandas is widely used for data analysis tasks, including data cleaning, transformation, and visualization, making it an essential tool for data scientists and analysts.\n"
   ]
  },
  {
   "cell_type": "code",
   "execution_count": 34,
   "id": "8d854867",
   "metadata": {},
   "outputs": [],
   "source": [
    "import numpy as np\n",
    "import pandas as pd\n"
   ]
  },
  {
   "cell_type": "markdown",
   "id": "75680a1a",
   "metadata": {},
   "source": [
    "### Create a small dataset using Numpy\n",
    " \n",
    " Generate random scores for 5 students in 3 subjects (Math, Science, English)"
   ]
  },
  {
   "cell_type": "code",
   "execution_count": 37,
   "id": "1ae719c7",
   "metadata": {},
   "outputs": [],
   "source": [
    "np.random.seed(20)  # For reproducibility\n",
    "num_students = 5\n",
    "subjects = ['Math', 'Science', 'English']\n",
    "scores = np.random.randint(50, 101, size=(num_students, len(subjects)))"
   ]
  },
  {
   "cell_type": "markdown",
   "id": "d5a6882e",
   "metadata": {},
   "source": [
    "### What is Dataframe ?\n",
    "A DataFrame is a two-dimensional, size-mutable, potentially heterogeneous tabular data structure \n",
    "with labeled axes (rows and columns) in the Pandas library. It is similar to a spreadsheet or SQL table, \n",
    "or a dictionary of Series objects. DataFrames are widely used for data manipulation and analysis \n",
    "because they allow for easy handling of missing data, alignment of data, and various operations \n",
    "such as filtering, grouping, and aggregating. Each column in a DataFrame can be of a different data type, \n",
    "making it a versatile tool for data analysis in Python.\n"
   ]
  },
  {
   "cell_type": "code",
   "execution_count": 38,
   "id": "4b92be0a",
   "metadata": {},
   "outputs": [],
   "source": [
    "# 2. Create a Pandas DataFrame from the Numpy array\n",
    "df = pd.DataFrame(scores, columns=subjects)"
   ]
  },
  {
   "cell_type": "code",
   "execution_count": 41,
   "id": "352961ac",
   "metadata": {},
   "outputs": [
    {
     "name": "stdout",
     "output_type": "stream",
     "text": [
      "--- Dataset ---\n",
      "   Math  Science  English    Student    Average Status\n",
      "0    85       76       65  Student_1  75.333333   Pass\n",
      "1    81       78       76  Student_2  78.333333   Pass\n",
      "2    59       70       61  Student_3  63.333333   Pass\n",
      "3    72       57       84  Student_4  71.000000   Pass\n",
      "4    82       90       71  Student_5  81.000000   Pass\n",
      "\n",
      "--- Subject Averages ---\n",
      "Math       75.8\n",
      "Science    74.2\n",
      "English    71.4\n",
      "dtype: float64\n",
      "\n",
      "--- Pass/Fail Counts ---\n",
      "Status\n",
      "Pass    5\n",
      "Name: count, dtype: int64\n"
     ]
    }
   ],
   "source": [
    "# 3. Add additional columns\n",
    "# Adding a column for student names (Student_1, Student_2, ...)\n",
    "df['Student'] = [f'Student_{i+1}' for i in range(num_students)]\n",
    "# Adding a column for the average score\n",
    "df['Average'] = df[subjects].mean(axis=1)\n",
    "# Adding a column to classify students as 'Pass' or 'Fail' based on their average score (>60 is Pass)\n",
    "df['Status'] = np.where(df['Average'] > 60, 'Pass', 'Fail')\n",
    "\n",
    "print(\"--- Dataset ---\")\n",
    "print(df)\n",
    "\n",
    "print(\"\\n--- Subject Averages ---\")\n",
    "print(df[subjects].mean())\n",
    "\n",
    "print(\"\\n--- Pass/Fail Counts ---\")\n",
    "print(df['Status'].value_counts())\n"
   ]
  },
  {
   "cell_type": "code",
   "execution_count": 42,
   "id": "91568c81",
   "metadata": {},
   "outputs": [
    {
     "name": "stdout",
     "output_type": "stream",
     "text": [
      "prabin\n"
     ]
    }
   ],
   "source": [
    "class Person:\n",
    "    def __init__(self, name, age):\n",
    "        self.name = name\n",
    "        self.age = age\n",
    "        pass\n",
    "\n",
    "    def printValues(self):\n",
    "        print(self.name)\n",
    "\n"
   ]
  },
  {
   "cell_type": "code",
   "execution_count": null,
   "id": "157246f0",
   "metadata": {},
   "outputs": [],
   "source": []
  },
  {
   "cell_type": "markdown",
   "id": "258127c0",
   "metadata": {},
   "source": [
    "**Instructor: Pawan Shah**  \n",
    "Topic: Advance Python  \n",
    "Date: 22nd December, 2024  \n",
    "\n",
    "Hints, also known as type hints or type annotations, are a feature in Python that allows you to specify the expected data types of function arguments and return values. This helps improve code readability and maintainability by providing clear information about what types of data are expected. Type hints do not enforce type checking at runtime but can be used by static type checkers, IDEs, and linters to catch potential type-related errors during development. "
   ]
  },
  {
   "cell_type": "code",
   "execution_count": 45,
   "id": "440f1581",
   "metadata": {},
   "outputs": [
    {
     "data": {
      "text/plain": [
       "5"
      ]
     },
     "execution_count": 45,
     "metadata": {},
     "output_type": "execute_result"
    }
   ],
   "source": [
    "#Hints\n",
    "def add(a: int, b: int) -> int:\n",
    "    return a + b\n",
    "\n",
    "add(2, 3)"
   ]
  },
  {
   "cell_type": "markdown",
   "id": "fb703b86",
   "metadata": {},
   "source": [
    "### What is a Docstring?\n",
    "\n",
    "A docstring, short for documentation string, is a special type of comment used to describe the purpose, usage, and behavior of a function, method, class, or module in Python. It is enclosed within triple quotes (`\"\"\"` or `'''`) and is placed immediately after the definition of the function, method, class, or module.\n",
    "\n",
    "#### Uses of Docstrings:\n",
    "1. **Documentation**: Docstrings provide a convenient way to document the code, making it easier for developers to understand the functionality and usage of the code.\n",
    "2. **Help Function**: Python's built-in `help()` function can be used to display the docstring of a function, method, class, or module, providing quick access to the documentation.\n",
    "3. **Code Readability**: Docstrings improve code readability by providing clear and concise descriptions of what the code does, its parameters, and its return values.\n",
    "4. **API Documentation**: Docstrings can be used to generate API documentation automatically using tools like Sphinx, making it easier to maintain and update the documentation.\n",
    "\n",
    "#### Advantages of Docstrings:\n",
    "1. **Improved Code Understanding**: Docstrings help developers understand the code quickly without having to read through the entire implementation.\n",
    "2. **Ease of Maintenance**: With docstrings, maintaining and updating documentation becomes easier, as the documentation is written alongside the code.\n",
    "3. **Consistency**: Using docstrings ensures a consistent approach to documenting code, which is beneficial for large projects with multiple contributors.\n",
    "4. **Enhanced Collaboration**: Well-documented code with docstrings facilitates better collaboration among team members, as everyone can easily understand the code's purpose and usage."
   ]
  },
  {
   "cell_type": "code",
   "execution_count": 3,
   "id": "77b88f4e",
   "metadata": {},
   "outputs": [
    {
     "data": {
      "text/plain": [
       "'Hello, Pawan'"
      ]
     },
     "execution_count": 3,
     "metadata": {},
     "output_type": "execute_result"
    }
   ],
   "source": [
    "#Docstrings\n",
    "def greet(name: str) -> str:\n",
    "    \"\"\"\n",
    "    Greets the user by name.\n",
    "\n",
    "    Args:\n",
    "        name (str): The name of the user.\n",
    "\n",
    "    Returns:\n",
    "        str: A greeting message.\n",
    "    \"\"\"\n",
    "    return f\"Hello, {name}\"\n",
    "greet(\"Pawan\")"
   ]
  },
  {
   "cell_type": "markdown",
   "id": "6f15d7e4",
   "metadata": {},
   "source": [
    "### Modular Programming\n",
    "\n",
    "Modular programming is a software design technique that emphasizes separating the functionality of a program into independent, interchangeable modules. Each module contains everything necessary to execute only one aspect of the desired functionality. This approach enhances code readability, maintainability, and reusability.\n",
    "\n",
    "#### Advantages of Modular Programming:\n",
    "1. **Improved Readability**: By breaking down a program into smaller, manageable modules, the code becomes easier to read and understand.\n",
    "2. **Ease of Maintenance**: Modules can be developed, tested, and debugged independently, making it easier to maintain and update the code.\n",
    "3. **Reusability**: Modules can be reused across different programs or projects, reducing redundancy and development time.\n",
    "4. **Collaboration**: Modular programming allows multiple developers to work on different modules simultaneously, facilitating better collaboration and parallel development.\n"
   ]
  },
  {
   "cell_type": "code",
   "execution_count": 46,
   "id": "42c0a51b",
   "metadata": {},
   "outputs": [
    {
     "data": {
      "text/plain": [
       "0.08"
      ]
     },
     "execution_count": 46,
     "metadata": {},
     "output_type": "execute_result"
    }
   ],
   "source": [
    "#Modular Programming\n",
    "from mathOp import PID\n",
    "\n",
    "pid = PID(0.1, 0.01, 0.05)\n",
    "pid.setpoint = 1.0\n",
    "pid.update(0.5)\n"
   ]
  },
  {
   "cell_type": "markdown",
   "id": "2be46c02",
   "metadata": {},
   "source": [
    "### Exception Handling\n",
    "\n",
    "Exception handling is a mechanism in programming to handle runtime errors, ensuring the normal flow of the program is maintained. Python provides a way to handle exceptions using the `try`, `except`, `else`, and `finally` blocks.\n",
    "\n",
    "#### Key Components:\n",
    "1. **try block**: Code that might raise an exception is placed inside the `try` block.\n",
    "2. **except block**: Code that handles the exception is placed inside the `except` block.\n",
    "3. **else block**: Code that runs if no exception occurs is placed inside the `else` block.\n",
    "4. **finally block**: Code that runs no matter what (whether an exception occurs or not) is placed inside the `finally` block.\n",
    "\n",
    "\n",
    "### Custom Exceptions\n",
    "\n",
    "Custom exceptions allow you to define your own error types, making your code more readable and providing more specific error messages. Custom exceptions are created by subclassing the built-in `Exception` class.\n",
    "\n"
   ]
  },
  {
   "cell_type": "code",
   "execution_count": 50,
   "id": "f543b796",
   "metadata": {},
   "outputs": [
    {
     "name": "stdout",
     "output_type": "stream",
     "text": [
      "can't multiply sequence by non-int of type 'str'\n",
      "Finally block\n"
     ]
    }
   ],
   "source": [
    "#Exceptions\n",
    "try:\n",
    "    val = \"20\" * \"prabin\"\n",
    "except Exception as e: \n",
    "    print(e)\n",
    "else:\n",
    "    print(\"No exception\")\n",
    "    print(val)\n",
    "finally:\n",
    "    print(\"Finally block\")"
   ]
  },
  {
   "cell_type": "code",
   "execution_count": 51,
   "id": "84def094",
   "metadata": {},
   "outputs": [],
   "source": [
    "#Custom Exceptions\n",
    "class InvalidAgeError(Exception):\n",
    "    \"\"\"Exception raised for invalid age input.\"\"\"\n",
    "    def __init__(self, age, message=\"Age must be between 0 and 120.\"):\n",
    "        self.age = age\n",
    "        self.message = message\n",
    "        super().__init__(self.message)\n",
    "\n",
    "    def __str__(self):\n",
    "        return f\"{self.message} You entered: {self.age}\"\n"
   ]
  },
  {
   "cell_type": "code",
   "execution_count": 10,
   "id": "e9ecdf1a",
   "metadata": {},
   "outputs": [
    {
     "name": "stdout",
     "output_type": "stream",
     "text": [
      "Age must be between 0 and 120. You entered: -5\n"
     ]
    }
   ],
   "source": [
    "def set_age(age):\n",
    "    if age < 0 or age > 120:\n",
    "        raise InvalidAgeError(age)\n",
    "    print(f\"Age set to: {age}\")\n",
    "\n",
    "try:\n",
    "    set_age(-5)\n",
    "except Exception as e:\n",
    "    print(e)"
   ]
  },
  {
   "cell_type": "markdown",
   "id": "d0e6bb85",
   "metadata": {},
   "source": []
  },
  {
   "cell_type": "code",
   "execution_count": null,
   "id": "f7bd0c72",
   "metadata": {},
   "outputs": [],
   "source": []
  }
 ],
 "metadata": {
  "kernelspec": {
   "display_name": "Python 3",
   "language": "python",
   "name": "python3"
  },
  "language_info": {
   "codemirror_mode": {
    "name": "ipython",
    "version": 3
   },
   "file_extension": ".py",
   "mimetype": "text/x-python",
   "name": "python",
   "nbconvert_exporter": "python",
   "pygments_lexer": "ipython3",
   "version": "undefined.undefined.undefined"
  }
 },
 "nbformat": 4,
 "nbformat_minor": 5
}
